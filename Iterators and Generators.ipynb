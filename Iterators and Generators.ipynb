{
 "cells": [
  {
   "cell_type": "code",
   "execution_count": 1,
   "metadata": {
    "collapsed": true
   },
   "outputs": [],
   "source": [
    "#Reversing by creating a user defined iterator\n",
    "class Reverse:\n",
    "    def __init__(self,data):\n",
    "        self.data = data\n",
    "        self.index = len(data)\n",
    "    \n",
    "    def __iter__(self):\n",
    "        return self\n",
    "    \n",
    "    def __next__(self):\n",
    "        if self.index ==0:\n",
    "            raise StopIteration\n",
    "        else:\n",
    "            self.index = self.index - 1\n",
    "            return self.data[self.index]"
   ]
  },
  {
   "cell_type": "code",
   "execution_count": 2,
   "metadata": {
    "collapsed": false
   },
   "outputs": [
    {
     "name": "stdout",
     "output_type": "stream",
     "text": [
      "5\n",
      "4\n",
      "3\n",
      "2\n",
      "1\n"
     ]
    }
   ],
   "source": [
    "rev = Reverse([1,2,3,4,5])\n",
    "for c in rev:\n",
    "    print(c)"
   ]
  },
  {
   "cell_type": "code",
   "execution_count": 2,
   "metadata": {
    "collapsed": false
   },
   "outputs": [
    {
     "name": "stdout",
     "output_type": "stream",
     "text": [
      "Summation of prime numbers below 2 million: 142913828922 \n"
     ]
    }
   ],
   "source": [
    "#Project Euler 10: Summation of primes below 2million\n",
    "#Iterator to return prime numbers\n",
    "\n",
    "import math\n",
    "def is_prime(number):\n",
    "    if number > 1:\n",
    "        if number == 2:\n",
    "            return True\n",
    "        if number % 2 == 0:\n",
    "            return False\n",
    "        for current in range(3, int(math.sqrt(number) + 1), 2):\n",
    "            if number % current == 0: \n",
    "                return False\n",
    "        return True\n",
    "    return False\n",
    "\n",
    "class PrimeNum:\n",
    "    def __init__(self,start):\n",
    "        self.start = start\n",
    "        \n",
    "    def __iter__(self):\n",
    "        return self\n",
    "    \n",
    "    def __next__(self):\n",
    "        if(is_prime(self.start)==True):\n",
    "            self.start = self.start+1\n",
    "            return (self.start-1)\n",
    "        else:\n",
    "            self.start = self.start + 1\n",
    "            return self.__next__()\n",
    "\n",
    "def solve_number_10():\n",
    "    total = 2\n",
    "    for next_prime in PrimeNum(3):\n",
    "        if next_prime < 2000000:\n",
    "            total += next_prime\n",
    "        else:\n",
    "            print('Summation of prime numbers below 2 million: {} '.format(total))\n",
    "            return\n",
    "solve_number_10()"
   ]
  },
  {
   "cell_type": "code",
   "execution_count": 4,
   "metadata": {
    "collapsed": false
   },
   "outputs": [
    {
     "name": "stdout",
     "output_type": "stream",
     "text": [
      "Summation of prime numbers below 2 million: 142913828922 \n"
     ]
    }
   ],
   "source": [
    "#Project Euler 10: Summation of primes below 2million\n",
    "#Generator to return prime numbers\n",
    "\n",
    "import math\n",
    "def is_prime(number):\n",
    "    if number > 1:\n",
    "        if number == 2:\n",
    "            return True\n",
    "        if number % 2 == 0:\n",
    "            return False\n",
    "        for current in range(3, int(math.sqrt(number) + 1), 2):\n",
    "            if number % current == 0: \n",
    "                return False\n",
    "        return True\n",
    "    return False\n",
    "\n",
    "#Generator\n",
    "def PrimeNum(start):\n",
    "    while True:\n",
    "        if(is_prime(start)):\n",
    "            yield start\n",
    "        start+=1\n",
    "        \n",
    "\n",
    "def solve_number_10():\n",
    "    total = 2\n",
    "    for next_prime in PrimeNum(3):\n",
    "        if next_prime < 2000000:\n",
    "            total += next_prime\n",
    "        else:\n",
    "            print('Summation of prime numbers below 2 million: {} '.format(total))\n",
    "            return\n",
    "solve_number_10()"
   ]
  },
  {
   "cell_type": "code",
   "execution_count": 7,
   "metadata": {
    "collapsed": false
   },
   "outputs": [
    {
     "name": "stdout",
     "output_type": "stream",
     "text": [
      "[0, 1, 2, 3, 4, 5, 6, 7, 8, 9]\n",
      "[]\n"
     ]
    }
   ],
   "source": [
    "#Iterable is the instance of class that creates an iterator\n",
    "#Iterator is the object returned by the __iter__() method of the iterable class\n",
    "#In short class object is iterable and __iter__() returns iterator\n",
    "#If __iter__ returns self then both iterator and iterator are same\n",
    "#And iterator get consumed in single iteration\n",
    "\n",
    "class a_range:\n",
    "    def __init__(self, n):\n",
    "        self.n = n\n",
    "        self.i = 0\n",
    "        \n",
    "    def __iter__(self):\n",
    "        return self\n",
    "    \n",
    "    def __next__(self):\n",
    "        if(self.i<self.n):\n",
    "            i = self.i\n",
    "            self.i+=1\n",
    "            return i\n",
    "        else:\n",
    "            raise StopIteration()\n",
    "\n",
    "a = a_range(10)\n",
    "print(list(a))\n",
    "print(list(a))\n",
    "#That means we need to create a new iterable instance of the class everytime we need to use it"
   ]
  },
  {
   "cell_type": "code",
   "execution_count": 8,
   "metadata": {
    "collapsed": false
   },
   "outputs": [
    {
     "name": "stdout",
     "output_type": "stream",
     "text": [
      "[0, 1, 2, 3, 4, 5, 6, 7, 8, 9]\n",
      "[0, 1, 2, 3, 4, 5, 6, 7, 8, 9]\n"
     ]
    }
   ],
   "source": [
    "#If we dont return self in __iter__() function instead return an iterable object of another class \n",
    "#We dont have to create iterable instace everytime\n",
    "\n",
    "class b_range:\n",
    "    def __init__(self, n):\n",
    "        self.n = n\n",
    "        self.i = 0\n",
    "        \n",
    "    def __iter__(self):\n",
    "        return b_range_iter(self.n)\n",
    "\n",
    "class b_range_iter:\n",
    "    def __init__(self, n):\n",
    "        self.n = n\n",
    "        self.i = 0\n",
    "    \n",
    "    def __iter__(self):\n",
    "        return self\n",
    "    \n",
    "    def __next__(self):\n",
    "        if(self.i<self.n):\n",
    "            i = self.i\n",
    "            self.i+=1\n",
    "            return i\n",
    "        else:\n",
    "            raise StopIteration()\n",
    "            \n",
    "b= b_range(10)\n",
    "print(list(b))\n",
    "print(list(b))\n",
    "#Thus iterator is not exhausted every time __iter__ is called by list as it creates a new iterator of class b_range_iter"
   ]
  },
  {
   "cell_type": "code",
   "execution_count": null,
   "metadata": {
    "collapsed": true
   },
   "outputs": [],
   "source": []
  }
 ],
 "metadata": {
  "anaconda-cloud": {},
  "kernelspec": {
   "display_name": "Python [conda root]",
   "language": "python",
   "name": "conda-root-py"
  },
  "language_info": {
   "codemirror_mode": {
    "name": "ipython",
    "version": 3
   },
   "file_extension": ".py",
   "mimetype": "text/x-python",
   "name": "python",
   "nbconvert_exporter": "python",
   "pygments_lexer": "ipython3",
   "version": "3.5.2"
  }
 },
 "nbformat": 4,
 "nbformat_minor": 1
}
