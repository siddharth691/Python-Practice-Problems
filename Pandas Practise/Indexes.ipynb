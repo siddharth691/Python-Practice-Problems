{
 "cells": [
  {
   "cell_type": "code",
   "execution_count": 61,
   "metadata": {
    "collapsed": true
   },
   "outputs": [],
   "source": [
    "import glob\n",
    "import pandas as pd\n",
    "import time"
   ]
  },
  {
   "cell_type": "code",
   "execution_count": 62,
   "metadata": {
    "collapsed": false
   },
   "outputs": [
    {
     "name": "stdout",
     "output_type": "stream",
     "text": [
      "67.29335260391235\n"
     ]
    }
   ],
   "source": [
    "#Already scrapped the weather folder which has many csv files\n",
    "t1 = time.time()\n",
    "files = glob.glob('weather/*.csv')\n",
    "columns = ['station', 'date', 'tmpf', 'relh', 'sped', 'mslp',\n",
    "           'p01i', 'vsby', 'gust_mph', 'skyc1', 'skyc2', 'skyc3']\n",
    "\n",
    "# init empty DataFrame, like you might for a list\n",
    "weather = pd.DataFrame(columns=columns)\n",
    "\n",
    "for fp in files:\n",
    "    city = pd.read_csv(fp)\n",
    "    weather = weather.append(city)\n",
    "t2 = time.time()\n",
    "print(t2-t1)"
   ]
  },
  {
   "cell_type": "code",
   "execution_count": 4,
   "metadata": {
    "collapsed": false
   },
   "outputs": [
    {
     "name": "stdout",
     "output_type": "stream",
     "text": [
      "18.893413066864014\n"
     ]
    }
   ],
   "source": [
    "t3 = time.time()\n",
    "files = glob.glob('weather/*.csv')\n",
    "weather_dfs = [pd.read_csv(fp) for fp in files]\n",
    "weather = pd.concat(weather_dfs)\n",
    "t4 = time.time()\n",
    "print(t4-t3)"
   ]
  },
  {
   "cell_type": "raw",
   "metadata": {},
   "source": [
    "# Second method of combining csv files is better than first method, it reads puts all csvs in different dataframe\n",
    "#and concatenate them all. While first method creates empty dataframe and appends each new dataframe to that dataframe"
   ]
  },
  {
   "cell_type": "code",
   "execution_count": 63,
   "metadata": {
    "collapsed": false
   },
   "outputs": [
    {
     "data": {
      "text/html": [
       "<div>\n",
       "<table border=\"1\" class=\"dataframe\">\n",
       "  <thead>\n",
       "    <tr style=\"text-align: right;\">\n",
       "      <th></th>\n",
       "      <th>station</th>\n",
       "      <th>date</th>\n",
       "      <th>tmpf</th>\n",
       "      <th>relh</th>\n",
       "      <th>sped</th>\n",
       "      <th>mslp</th>\n",
       "      <th>p01i</th>\n",
       "      <th>vsby</th>\n",
       "      <th>gust_mph</th>\n",
       "      <th>skyc1</th>\n",
       "      <th>skyc2</th>\n",
       "      <th>skyc3</th>\n",
       "    </tr>\n",
       "  </thead>\n",
       "  <tbody>\n",
       "    <tr>\n",
       "      <th>0</th>\n",
       "      <td>PAAK</td>\n",
       "      <td>2014-01-01 00:16:00</td>\n",
       "      <td>35.6</td>\n",
       "      <td>80.51</td>\n",
       "      <td>16.1</td>\n",
       "      <td>NaN</td>\n",
       "      <td>0.0</td>\n",
       "      <td>5.0</td>\n",
       "      <td>21.9</td>\n",
       "      <td>SCT</td>\n",
       "      <td>BKN</td>\n",
       "      <td>OVC</td>\n",
       "    </tr>\n",
       "    <tr>\n",
       "      <th>1</th>\n",
       "      <td>PAAK</td>\n",
       "      <td>2014-01-01 00:36:00</td>\n",
       "      <td>37.4</td>\n",
       "      <td>74.98</td>\n",
       "      <td>15.0</td>\n",
       "      <td>NaN</td>\n",
       "      <td>0.0</td>\n",
       "      <td>10.0</td>\n",
       "      <td>23.0</td>\n",
       "      <td>SCT</td>\n",
       "      <td>SCT</td>\n",
       "      <td>BKN</td>\n",
       "    </tr>\n",
       "    <tr>\n",
       "      <th>2</th>\n",
       "      <td>PAAK</td>\n",
       "      <td>2014-01-01 00:56:00</td>\n",
       "      <td>37.4</td>\n",
       "      <td>74.98</td>\n",
       "      <td>15.0</td>\n",
       "      <td>NaN</td>\n",
       "      <td>0.0</td>\n",
       "      <td>10.0</td>\n",
       "      <td>NaN</td>\n",
       "      <td>FEW</td>\n",
       "      <td>SCT</td>\n",
       "      <td>BKN</td>\n",
       "    </tr>\n",
       "    <tr>\n",
       "      <th>3</th>\n",
       "      <td>PAAK</td>\n",
       "      <td>2014-01-01 01:16:00</td>\n",
       "      <td>37.4</td>\n",
       "      <td>74.98</td>\n",
       "      <td>16.1</td>\n",
       "      <td>NaN</td>\n",
       "      <td>0.0</td>\n",
       "      <td>10.0</td>\n",
       "      <td>26.5</td>\n",
       "      <td>FEW</td>\n",
       "      <td>SCT</td>\n",
       "      <td>BKN</td>\n",
       "    </tr>\n",
       "    <tr>\n",
       "      <th>4</th>\n",
       "      <td>PAAK</td>\n",
       "      <td>2014-01-01 01:36:00</td>\n",
       "      <td>37.4</td>\n",
       "      <td>74.98</td>\n",
       "      <td>19.6</td>\n",
       "      <td>NaN</td>\n",
       "      <td>0.0</td>\n",
       "      <td>8.0</td>\n",
       "      <td>27.6</td>\n",
       "      <td>SCT</td>\n",
       "      <td>BKN</td>\n",
       "      <td>OVC</td>\n",
       "    </tr>\n",
       "  </tbody>\n",
       "</table>\n",
       "</div>"
      ],
      "text/plain": [
       "  station                 date  tmpf   relh  sped  mslp  p01i  vsby  gust_mph  \\\n",
       "0    PAAK  2014-01-01 00:16:00  35.6  80.51  16.1   NaN   0.0   5.0      21.9   \n",
       "1    PAAK  2014-01-01 00:36:00  37.4  74.98  15.0   NaN   0.0  10.0      23.0   \n",
       "2    PAAK  2014-01-01 00:56:00  37.4  74.98  15.0   NaN   0.0  10.0       NaN   \n",
       "3    PAAK  2014-01-01 01:16:00  37.4  74.98  16.1   NaN   0.0  10.0      26.5   \n",
       "4    PAAK  2014-01-01 01:36:00  37.4  74.98  19.6   NaN   0.0   8.0      27.6   \n",
       "\n",
       "  skyc1 skyc2 skyc3  \n",
       "0   SCT   BKN   OVC  \n",
       "1   SCT   SCT   BKN  \n",
       "2   FEW   SCT   BKN  \n",
       "3   FEW   SCT   BKN  \n",
       "4   SCT   BKN   OVC  "
      ]
     },
     "execution_count": 63,
     "metadata": {},
     "output_type": "execute_result"
    }
   ],
   "source": [
    "weather.head()"
   ]
  },
  {
   "cell_type": "code",
   "execution_count": 64,
   "metadata": {
    "collapsed": false
   },
   "outputs": [],
   "source": [
    "weather = weather.set_index('date')"
   ]
  },
  {
   "cell_type": "code",
   "execution_count": 65,
   "metadata": {
    "collapsed": false,
    "scrolled": true
   },
   "outputs": [
    {
     "data": {
      "text/html": [
       "<div>\n",
       "<table border=\"1\" class=\"dataframe\">\n",
       "  <thead>\n",
       "    <tr style=\"text-align: right;\">\n",
       "      <th></th>\n",
       "      <th>station</th>\n",
       "      <th>tmpf</th>\n",
       "      <th>relh</th>\n",
       "      <th>sped</th>\n",
       "      <th>mslp</th>\n",
       "      <th>p01i</th>\n",
       "      <th>vsby</th>\n",
       "      <th>gust_mph</th>\n",
       "      <th>skyc1</th>\n",
       "      <th>skyc2</th>\n",
       "      <th>skyc3</th>\n",
       "    </tr>\n",
       "    <tr>\n",
       "      <th>date</th>\n",
       "      <th></th>\n",
       "      <th></th>\n",
       "      <th></th>\n",
       "      <th></th>\n",
       "      <th></th>\n",
       "      <th></th>\n",
       "      <th></th>\n",
       "      <th></th>\n",
       "      <th></th>\n",
       "      <th></th>\n",
       "      <th></th>\n",
       "    </tr>\n",
       "  </thead>\n",
       "  <tbody>\n",
       "    <tr>\n",
       "      <th>2014-01-01 00:54:00</th>\n",
       "      <td>DSM</td>\n",
       "      <td>10.94</td>\n",
       "      <td>72.79</td>\n",
       "      <td>10.4</td>\n",
       "      <td>1024.9</td>\n",
       "      <td>0.0</td>\n",
       "      <td>10.0</td>\n",
       "      <td>NaN</td>\n",
       "      <td>FEW</td>\n",
       "      <td>M</td>\n",
       "      <td>M</td>\n",
       "    </tr>\n",
       "    <tr>\n",
       "      <th>2014-01-01 01:54:00</th>\n",
       "      <td>DSM</td>\n",
       "      <td>10.94</td>\n",
       "      <td>72.79</td>\n",
       "      <td>11.5</td>\n",
       "      <td>1025.4</td>\n",
       "      <td>0.0</td>\n",
       "      <td>10.0</td>\n",
       "      <td>NaN</td>\n",
       "      <td>OVC</td>\n",
       "      <td>M</td>\n",
       "      <td>M</td>\n",
       "    </tr>\n",
       "    <tr>\n",
       "      <th>2014-01-01 02:54:00</th>\n",
       "      <td>DSM</td>\n",
       "      <td>10.94</td>\n",
       "      <td>72.79</td>\n",
       "      <td>8.1</td>\n",
       "      <td>1025.3</td>\n",
       "      <td>0.0</td>\n",
       "      <td>10.0</td>\n",
       "      <td>NaN</td>\n",
       "      <td>BKN</td>\n",
       "      <td>M</td>\n",
       "      <td>M</td>\n",
       "    </tr>\n",
       "    <tr>\n",
       "      <th>2014-01-01 03:54:00</th>\n",
       "      <td>DSM</td>\n",
       "      <td>10.94</td>\n",
       "      <td>72.79</td>\n",
       "      <td>9.2</td>\n",
       "      <td>1025.3</td>\n",
       "      <td>0.0</td>\n",
       "      <td>10.0</td>\n",
       "      <td>NaN</td>\n",
       "      <td>OVC</td>\n",
       "      <td>M</td>\n",
       "      <td>M</td>\n",
       "    </tr>\n",
       "    <tr>\n",
       "      <th>2014-01-01 04:54:00</th>\n",
       "      <td>DSM</td>\n",
       "      <td>10.04</td>\n",
       "      <td>72.69</td>\n",
       "      <td>9.2</td>\n",
       "      <td>1024.7</td>\n",
       "      <td>0.0</td>\n",
       "      <td>10.0</td>\n",
       "      <td>NaN</td>\n",
       "      <td>BKN</td>\n",
       "      <td>M</td>\n",
       "      <td>M</td>\n",
       "    </tr>\n",
       "  </tbody>\n",
       "</table>\n",
       "</div>"
      ],
      "text/plain": [
       "                    station   tmpf   relh  sped    mslp  p01i  vsby  gust_mph  \\\n",
       "date                                                                            \n",
       "2014-01-01 00:54:00     DSM  10.94  72.79  10.4  1024.9   0.0  10.0       NaN   \n",
       "2014-01-01 01:54:00     DSM  10.94  72.79  11.5  1025.4   0.0  10.0       NaN   \n",
       "2014-01-01 02:54:00     DSM  10.94  72.79   8.1  1025.3   0.0  10.0       NaN   \n",
       "2014-01-01 03:54:00     DSM  10.94  72.79   9.2  1025.3   0.0  10.0       NaN   \n",
       "2014-01-01 04:54:00     DSM  10.04  72.69   9.2  1024.7   0.0  10.0       NaN   \n",
       "\n",
       "                    skyc1 skyc2 skyc3  \n",
       "date                                   \n",
       "2014-01-01 00:54:00   FEW     M     M  \n",
       "2014-01-01 01:54:00   OVC     M     M  \n",
       "2014-01-01 02:54:00   BKN     M     M  \n",
       "2014-01-01 03:54:00   OVC     M     M  \n",
       "2014-01-01 04:54:00   BKN     M     M  "
      ]
     },
     "execution_count": 65,
     "metadata": {},
     "output_type": "execute_result"
    }
   ],
   "source": [
    "weather.loc[weather['station']=='DSM'].head()"
   ]
  },
  {
   "cell_type": "code",
   "execution_count": 70,
   "metadata": {
    "collapsed": false
   },
   "outputs": [],
   "source": [
    "weather = (weather.assign(date = lambda x: pd.to_datetime(x.index))\n",
    "                 .set_index(['date']))"
   ]
  },
  {
   "cell_type": "code",
   "execution_count": 96,
   "metadata": {
    "collapsed": false
   },
   "outputs": [
    {
     "data": {
      "text/html": [
       "<div>\n",
       "<table border=\"1\" class=\"dataframe\">\n",
       "  <thead>\n",
       "    <tr style=\"text-align: right;\">\n",
       "      <th></th>\n",
       "      <th>a</th>\n",
       "    </tr>\n",
       "  </thead>\n",
       "  <tbody>\n",
       "    <tr>\n",
       "      <th>2017-01-29 21:55:30</th>\n",
       "      <td>0</td>\n",
       "    </tr>\n",
       "    <tr>\n",
       "      <th>2017-01-29 21:55:42</th>\n",
       "      <td>1</td>\n",
       "    </tr>\n",
       "    <tr>\n",
       "      <th>2017-01-29 22:14:14</th>\n",
       "      <td>2</td>\n",
       "    </tr>\n",
       "  </tbody>\n",
       "</table>\n",
       "</div>"
      ],
      "text/plain": [
       "                     a\n",
       "2017-01-29 21:55:30  0\n",
       "2017-01-29 21:55:42  1\n",
       "2017-01-29 22:14:14  2"
      ]
     },
     "execution_count": 96,
     "metadata": {},
     "output_type": "execute_result"
    }
   ],
   "source": [
    "import numpy as np\n",
    "a = pd.DataFrame({'a':[0,1,2]},index = np.array([1485707130, 1485707142, 1485708254]).astype('datetime64[s]'))\n",
    "offset = pd.DateOffset(hours = 5, minutes = 30)\n",
    "a.index = a.index + offset\n",
    "a"
   ]
  },
  {
   "cell_type": "code",
   "execution_count": 28,
   "metadata": {
    "collapsed": false
   },
   "outputs": [
    {
     "data": {
      "text/plain": [
       "date\n",
       "2014-01-01 00:16:00    2.0\n",
       "2014-01-01 00:36:00    3.0\n",
       "2014-01-01 00:56:00    3.0\n",
       "2014-01-01 01:16:00    3.0\n",
       "2014-01-01 01:36:00    3.0\n",
       "Name: tmpf, dtype: float64"
      ]
     },
     "execution_count": 28,
     "metadata": {},
     "output_type": "execute_result"
    }
   ],
   "source": [
    "temp = weather['tmpf']\n",
    "\n",
    "C = (temp - 32)*5/9\n",
    "C.head()"
   ]
  },
  {
   "cell_type": "code",
   "execution_count": 29,
   "metadata": {
    "collapsed": false
   },
   "outputs": [
    {
     "data": {
      "text/html": [
       "<div>\n",
       "<table border=\"1\" class=\"dataframe\">\n",
       "  <thead>\n",
       "    <tr style=\"text-align: right;\">\n",
       "      <th></th>\n",
       "      <th>station</th>\n",
       "      <th>date</th>\n",
       "      <th>tmpf</th>\n",
       "    </tr>\n",
       "  </thead>\n",
       "  <tbody>\n",
       "    <tr>\n",
       "      <th>0</th>\n",
       "      <td>PAAK</td>\n",
       "      <td>2014-01-01 00:16:00</td>\n",
       "      <td>2.0</td>\n",
       "    </tr>\n",
       "    <tr>\n",
       "      <th>1</th>\n",
       "      <td>PAAK</td>\n",
       "      <td>2014-01-01 00:36:00</td>\n",
       "      <td>3.0</td>\n",
       "    </tr>\n",
       "    <tr>\n",
       "      <th>2</th>\n",
       "      <td>PAAK</td>\n",
       "      <td>2014-01-01 00:56:00</td>\n",
       "      <td>3.0</td>\n",
       "    </tr>\n",
       "    <tr>\n",
       "      <th>3</th>\n",
       "      <td>PAAK</td>\n",
       "      <td>2014-01-01 01:16:00</td>\n",
       "      <td>3.0</td>\n",
       "    </tr>\n",
       "    <tr>\n",
       "      <th>4</th>\n",
       "      <td>PAAK</td>\n",
       "      <td>2014-01-01 01:36:00</td>\n",
       "      <td>3.0</td>\n",
       "    </tr>\n",
       "  </tbody>\n",
       "</table>\n",
       "</div>"
      ],
      "text/plain": [
       "  station                 date  tmpf\n",
       "0    PAAK  2014-01-01 00:16:00   2.0\n",
       "1    PAAK  2014-01-01 00:36:00   3.0\n",
       "2    PAAK  2014-01-01 00:56:00   3.0\n",
       "3    PAAK  2014-01-01 01:16:00   3.0\n",
       "4    PAAK  2014-01-01 01:36:00   3.0"
      ]
     },
     "execution_count": 29,
     "metadata": {},
     "output_type": "execute_result"
    }
   ],
   "source": [
    "temp2 = weather.reset_index()[['station', 'date', 'tmpf']]\n",
    "temp2['tmpf'] = (temp2['tmpf'] - 32) * 5 / 9\n",
    "temp2.head()"
   ]
  },
  {
   "cell_type": "code",
   "execution_count": 37,
   "metadata": {
    "collapsed": false
   },
   "outputs": [
    {
     "data": {
      "text/html": [
       "<div>\n",
       "<table border=\"1\" class=\"dataframe\">\n",
       "  <thead>\n",
       "    <tr style=\"text-align: right;\">\n",
       "      <th></th>\n",
       "      <th>date</th>\n",
       "      <th>station</th>\n",
       "      <th>tmpf</th>\n",
       "      <th>relh</th>\n",
       "      <th>sped</th>\n",
       "      <th>mslp</th>\n",
       "      <th>p01i</th>\n",
       "      <th>vsby</th>\n",
       "      <th>gust_mph</th>\n",
       "      <th>skyc1</th>\n",
       "      <th>skyc2</th>\n",
       "      <th>skyc3</th>\n",
       "    </tr>\n",
       "  </thead>\n",
       "  <tbody>\n",
       "    <tr>\n",
       "      <th>0</th>\n",
       "      <td>2014-01-01 00:16:00</td>\n",
       "      <td>PAAK</td>\n",
       "      <td>35.6</td>\n",
       "      <td>80.51</td>\n",
       "      <td>16.1</td>\n",
       "      <td>NaN</td>\n",
       "      <td>0.0</td>\n",
       "      <td>5.0</td>\n",
       "      <td>21.9</td>\n",
       "      <td>SCT</td>\n",
       "      <td>BKN</td>\n",
       "      <td>OVC</td>\n",
       "    </tr>\n",
       "    <tr>\n",
       "      <th>1</th>\n",
       "      <td>2014-01-01 00:36:00</td>\n",
       "      <td>PAAK</td>\n",
       "      <td>37.4</td>\n",
       "      <td>74.98</td>\n",
       "      <td>15.0</td>\n",
       "      <td>NaN</td>\n",
       "      <td>0.0</td>\n",
       "      <td>10.0</td>\n",
       "      <td>23.0</td>\n",
       "      <td>SCT</td>\n",
       "      <td>SCT</td>\n",
       "      <td>BKN</td>\n",
       "    </tr>\n",
       "    <tr>\n",
       "      <th>2</th>\n",
       "      <td>2014-01-01 00:56:00</td>\n",
       "      <td>PAAK</td>\n",
       "      <td>37.4</td>\n",
       "      <td>74.98</td>\n",
       "      <td>15.0</td>\n",
       "      <td>NaN</td>\n",
       "      <td>0.0</td>\n",
       "      <td>10.0</td>\n",
       "      <td>NaN</td>\n",
       "      <td>FEW</td>\n",
       "      <td>SCT</td>\n",
       "      <td>BKN</td>\n",
       "    </tr>\n",
       "    <tr>\n",
       "      <th>3</th>\n",
       "      <td>2014-01-01 01:16:00</td>\n",
       "      <td>PAAK</td>\n",
       "      <td>37.4</td>\n",
       "      <td>74.98</td>\n",
       "      <td>16.1</td>\n",
       "      <td>NaN</td>\n",
       "      <td>0.0</td>\n",
       "      <td>10.0</td>\n",
       "      <td>26.5</td>\n",
       "      <td>FEW</td>\n",
       "      <td>SCT</td>\n",
       "      <td>BKN</td>\n",
       "    </tr>\n",
       "    <tr>\n",
       "      <th>4</th>\n",
       "      <td>2014-01-01 01:36:00</td>\n",
       "      <td>PAAK</td>\n",
       "      <td>37.4</td>\n",
       "      <td>74.98</td>\n",
       "      <td>19.6</td>\n",
       "      <td>NaN</td>\n",
       "      <td>0.0</td>\n",
       "      <td>8.0</td>\n",
       "      <td>27.6</td>\n",
       "      <td>SCT</td>\n",
       "      <td>BKN</td>\n",
       "      <td>OVC</td>\n",
       "    </tr>\n",
       "  </tbody>\n",
       "</table>\n",
       "</div>"
      ],
      "text/plain": [
       "                  date station  tmpf   relh  sped  mslp  p01i  vsby  gust_mph  \\\n",
       "0  2014-01-01 00:16:00    PAAK  35.6  80.51  16.1   NaN   0.0   5.0      21.9   \n",
       "1  2014-01-01 00:36:00    PAAK  37.4  74.98  15.0   NaN   0.0  10.0      23.0   \n",
       "2  2014-01-01 00:56:00    PAAK  37.4  74.98  15.0   NaN   0.0  10.0       NaN   \n",
       "3  2014-01-01 01:16:00    PAAK  37.4  74.98  16.1   NaN   0.0  10.0      26.5   \n",
       "4  2014-01-01 01:36:00    PAAK  37.4  74.98  19.6   NaN   0.0   8.0      27.6   \n",
       "\n",
       "  skyc1 skyc2 skyc3  \n",
       "0   SCT   BKN   OVC  \n",
       "1   SCT   SCT   BKN  \n",
       "2   FEW   SCT   BKN  \n",
       "3   FEW   SCT   BKN  \n",
       "4   SCT   BKN   OVC  "
      ]
     },
     "execution_count": 37,
     "metadata": {},
     "output_type": "execute_result"
    }
   ],
   "source": [
    "weather = weather.reset_index()\n",
    "weather.head()"
   ]
  },
  {
   "cell_type": "code",
   "execution_count": 38,
   "metadata": {
    "collapsed": false
   },
   "outputs": [],
   "source": [
    "weather = weather.set_index(['station','date']).sort_index()"
   ]
  },
  {
   "cell_type": "code",
   "execution_count": 56,
   "metadata": {
    "collapsed": false
   },
   "outputs": [
    {
     "name": "stdout",
     "output_type": "stream",
     "text": [
      "date\n",
      "2014-01-01 00:00:00    10.94\n",
      "2014-01-01 02:00:00    10.94\n",
      "2014-01-01 03:00:00    10.94\n",
      "2014-01-01 04:00:00    10.04\n",
      "2014-01-01 05:00:00    10.04\n",
      "Name: tmpf, dtype: float64\n",
      "date\n",
      "2014-01-01 01:00:00    11.5\n",
      "2014-01-01 02:00:00     8.1\n",
      "2014-01-01 03:00:00     9.2\n",
      "2014-01-01 04:00:00     9.2\n",
      "2014-01-01 05:00:00    10.4\n",
      "Name: sped, dtype: float64\n"
     ]
    }
   ],
   "source": [
    "dsm = weather.loc['DSM']\n",
    "dsm.index = pd.to_datetime(dsm.index)\n",
    "hourly = dsm.resample('H').mean()\n",
    "temp = hourly['tmpf'].sample(frac =0.5, random_state =1).sort_index()\n",
    "sped = hourly['sped'].sample(frac = 0.5, random_state =2).sort_index()\n",
    "print(temp.head())\n",
    "print(sped.head())"
   ]
  },
  {
   "cell_type": "code",
   "execution_count": 57,
   "metadata": {
    "collapsed": false
   },
   "outputs": [
    {
     "data": {
      "text/plain": [
       "date\n",
       "2014-01-01 00:00:00         NaN\n",
       "2014-01-01 01:00:00         NaN\n",
       "2014-01-01 02:00:00    0.740402\n",
       "2014-01-01 03:00:00    0.840951\n",
       "2014-01-01 04:00:00    0.916335\n",
       "2014-01-01 05:00:00    1.035857\n",
       "2014-01-01 06:00:00         NaN\n",
       "2014-01-01 07:00:00         NaN\n",
       "2014-01-01 08:00:00         NaN\n",
       "2014-01-01 09:00:00         NaN\n",
       "2014-01-01 10:00:00         NaN\n",
       "2014-01-01 11:00:00         NaN\n",
       "2014-01-01 12:00:00         NaN\n",
       "2014-01-01 13:00:00    1.542969\n",
       "2014-01-01 14:00:00         NaN\n",
       "2014-01-01 15:00:00         NaN\n",
       "2014-01-01 16:00:00    1.452581\n",
       "2014-01-01 17:00:00         NaN\n",
       "2014-01-01 18:00:00    1.556992\n",
       "2014-01-01 19:00:00         NaN\n",
       "2014-01-01 20:00:00         NaN\n",
       "2014-01-01 22:00:00         NaN\n",
       "2014-01-01 23:00:00    2.146402\n",
       "2014-01-02 00:00:00         NaN\n",
       "2014-01-02 01:00:00         NaN\n",
       "2014-01-02 04:00:00         NaN\n",
       "2014-01-02 05:00:00         NaN\n",
       "2014-01-02 06:00:00         NaN\n",
       "2014-01-02 07:00:00         NaN\n",
       "2014-01-02 08:00:00         NaN\n",
       "                         ...   \n",
       "2014-01-29 05:00:00         NaN\n",
       "2014-01-29 06:00:00         NaN\n",
       "2014-01-29 07:00:00         NaN\n",
       "2014-01-29 10:00:00    1.523179\n",
       "2014-01-29 11:00:00         NaN\n",
       "2014-01-29 12:00:00    1.920530\n",
       "2014-01-29 13:00:00         NaN\n",
       "2014-01-29 14:00:00    0.630713\n",
       "2014-01-29 15:00:00         NaN\n",
       "2014-01-29 16:00:00         NaN\n",
       "2014-01-29 18:00:00    0.481090\n",
       "2014-01-29 19:00:00    0.484976\n",
       "2014-01-29 20:00:00    0.412609\n",
       "2014-01-29 22:00:00         NaN\n",
       "2014-01-29 23:00:00    0.511680\n",
       "2014-01-30 00:00:00         NaN\n",
       "2014-01-30 02:00:00         NaN\n",
       "2014-01-30 03:00:00         NaN\n",
       "2014-01-30 04:00:00         NaN\n",
       "2014-01-30 05:00:00    0.509123\n",
       "2014-01-30 06:00:00         NaN\n",
       "2014-01-30 07:00:00         NaN\n",
       "2014-01-30 09:00:00    0.459213\n",
       "2014-01-30 10:00:00    0.624643\n",
       "2014-01-30 11:00:00         NaN\n",
       "2014-01-30 13:00:00         NaN\n",
       "2014-01-30 14:00:00    0.590416\n",
       "2014-01-30 17:00:00         NaN\n",
       "2014-01-30 21:00:00         NaN\n",
       "2014-01-30 23:00:00         NaN\n",
       "dtype: float64"
      ]
     },
     "execution_count": 57,
     "metadata": {},
     "output_type": "execute_result"
    }
   ],
   "source": [
    "#Even though indexes of both sped and temp are different div operator aligns and put Nan in indexes where it dont align\n",
    "sped/temp"
   ]
  },
  {
   "cell_type": "code",
   "execution_count": 58,
   "metadata": {
    "collapsed": false
   },
   "outputs": [
    {
     "data": {
      "text/plain": [
       "date\n",
       "2014-01-01 00:00:00     0.091408\n",
       "2014-01-01 01:00:00    11.500000\n",
       "2014-01-01 02:00:00     0.740402\n",
       "2014-01-01 03:00:00     0.840951\n",
       "2014-01-01 04:00:00     0.916335\n",
       "2014-01-01 05:00:00     1.035857\n",
       "2014-01-01 06:00:00     0.093721\n",
       "2014-01-01 07:00:00    12.700000\n",
       "2014-01-01 08:00:00     0.083195\n",
       "2014-01-01 09:00:00     0.091408\n",
       "2014-01-01 10:00:00    15.000000\n",
       "2014-01-01 11:00:00     0.099602\n",
       "2014-01-01 12:00:00    12.675000\n",
       "2014-01-01 13:00:00     1.542969\n",
       "2014-01-01 14:00:00    10.925000\n",
       "2014-01-01 15:00:00    12.666667\n",
       "2014-01-01 16:00:00     1.452581\n",
       "2014-01-01 17:00:00     0.124069\n",
       "2014-01-01 18:00:00     1.556992\n",
       "2014-01-01 19:00:00     0.108342\n",
       "2014-01-01 20:00:00    13.550000\n",
       "2014-01-01 22:00:00    13.800000\n",
       "2014-01-01 23:00:00     2.146402\n",
       "2014-01-02 00:00:00    12.700000\n",
       "2014-01-02 01:00:00    10.950000\n",
       "2014-01-02 04:00:00     9.200000\n",
       "2014-01-02 05:00:00     0.164474\n",
       "2014-01-02 06:00:00     9.200000\n",
       "2014-01-02 07:00:00     0.164474\n",
       "2014-01-02 08:00:00    10.400000\n",
       "                         ...    \n",
       "2014-01-29 05:00:00     6.900000\n",
       "2014-01-29 06:00:00     6.900000\n",
       "2014-01-29 07:00:00     0.255102\n",
       "2014-01-29 10:00:00     1.523179\n",
       "2014-01-29 11:00:00     4.600000\n",
       "2014-01-29 12:00:00     1.920530\n",
       "2014-01-29 13:00:00     0.255102\n",
       "2014-01-29 14:00:00     0.630713\n",
       "2014-01-29 15:00:00     0.052521\n",
       "2014-01-29 16:00:00    13.800000\n",
       "2014-01-29 18:00:00     0.481090\n",
       "2014-01-29 19:00:00     0.484976\n",
       "2014-01-29 20:00:00     0.412609\n",
       "2014-01-29 22:00:00    17.300000\n",
       "2014-01-29 23:00:00     0.511680\n",
       "2014-01-30 00:00:00    16.100000\n",
       "2014-01-30 02:00:00    18.400000\n",
       "2014-01-30 03:00:00     0.030230\n",
       "2014-01-30 04:00:00     0.029429\n",
       "2014-01-30 05:00:00     0.509123\n",
       "2014-01-30 06:00:00    15.000000\n",
       "2014-01-30 07:00:00     0.028523\n",
       "2014-01-30 09:00:00     0.459213\n",
       "2014-01-30 10:00:00     0.624643\n",
       "2014-01-30 11:00:00     0.029429\n",
       "2014-01-30 13:00:00     0.027809\n",
       "2014-01-30 14:00:00     0.590416\n",
       "2014-01-30 17:00:00     0.023267\n",
       "2014-01-30 21:00:00     0.035663\n",
       "2014-01-30 23:00:00    13.800000\n",
       "dtype: float64"
      ]
     },
     "execution_count": 58,
     "metadata": {},
     "output_type": "execute_result"
    }
   ],
   "source": [
    "#division using div operator after filling missing values\n",
    "sped.div(temp, fill_value=1)"
   ]
  },
  {
   "cell_type": "code",
   "execution_count": null,
   "metadata": {
    "collapsed": true
   },
   "outputs": [],
   "source": []
  }
 ],
 "metadata": {
  "kernelspec": {
   "display_name": "Python [conda root]",
   "language": "python",
   "name": "conda-root-py"
  },
  "language_info": {
   "codemirror_mode": {
    "name": "ipython",
    "version": 3
   },
   "file_extension": ".py",
   "mimetype": "text/x-python",
   "name": "python",
   "nbconvert_exporter": "python",
   "pygments_lexer": "ipython3",
   "version": "3.5.2"
  }
 },
 "nbformat": 4,
 "nbformat_minor": 1
}
