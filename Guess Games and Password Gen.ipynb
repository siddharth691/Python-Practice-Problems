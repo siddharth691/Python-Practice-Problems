{
 "cells": [
  {
   "cell_type": "code",
   "execution_count": 3,
   "metadata": {
    "collapsed": true
   },
   "outputs": [],
   "source": [
    "import random"
   ]
  },
  {
   "cell_type": "code",
   "execution_count": 4,
   "metadata": {
    "collapsed": false
   },
   "outputs": [
    {
     "name": "stdout",
     "output_type": "stream",
     "text": [
      "You want to guess the number between 0 and :1000\n",
      "Is your number greater than (0), smaller than (1), or equal to (2) 500: 1\n",
      "Is your number greater than (0), smaller than (1), or equal to (2) 250: 0\n",
      "Is your number greater than (0), smaller than (1), or equal to (2) 375: 0\n",
      "Is your number greater than (0), smaller than (1), or equal to (2) 437: 1\n",
      "Is your number greater than (0), smaller than (1), or equal to (2) 406: 0\n",
      "Is your number greater than (0), smaller than (1), or equal to (2) 421: 0\n",
      "Is your number greater than (0), smaller than (1), or equal to (2) 429: 1\n",
      "Is your number greater than (0), smaller than (1), or equal to (2) 425: 1\n",
      "Is your number greater than (0), smaller than (1), or equal to (2) 423: 2\n",
      "The number you have guessed is 423\n",
      "Gussed in 9 turns\n"
     ]
    }
   ],
   "source": [
    "### Guessing the number by computer\n",
    "#use binary search concept where we consider list as list of 100 elements\n",
    "class GuessGame:\n",
    "    def __init__(self):\n",
    "        self.__guess = 0\n",
    "        self.val = 0\n",
    "        self.List = 0\n",
    "    \n",
    "    def askRange(self):\n",
    "        self.val = int(input('You want to guess the number between 0 and :'))\n",
    "        self.List = range(0,self.val+1)\n",
    "        \n",
    "    def BinarySearchGame(self):\n",
    "        self.__guess+=1\n",
    "        l = len(self.List)\n",
    "        h = int(l/2)\n",
    "        eq = int(input('Is your number greater than (0), smaller than (1), or equal to (2) {}: '.format(self.List[h])))\n",
    "        if(eq==0):\n",
    "            if((l-h)==1):\n",
    "                print('The number is not in between 0 and 100')\n",
    "                return\n",
    "            else:\n",
    "                self.List = self.List[h::]\n",
    "                return self.BinarySearchGame()\n",
    "        elif(eq==1):\n",
    "            if(h == 1):\n",
    "                self.List = self.List[:h]\n",
    "                return self.BinarySearchGame()\n",
    "            elif(h==0):\n",
    "                print('Your number is not in between 0 and 100')\n",
    "                return\n",
    "            else:\n",
    "                self.List = self.List[:h]\n",
    "                return self.BinarySearchGame() \n",
    "        else:\n",
    "            print('The number you have guessed is {}'.format(self.List[h]))\n",
    "            print('Gussed in {} turns'.format(self.__guess))\n",
    "            return\n",
    "        \n",
    "    def RunGame(self):\n",
    "        self.askRange()\n",
    "        self.BinarySearchGame()\n",
    "        \n",
    "    \n",
    "g = GuessGame()\n",
    "g.RunGame()"
   ]
  },
  {
   "cell_type": "code",
   "execution_count": 5,
   "metadata": {
    "collapsed": false
   },
   "outputs": [
    {
     "name": "stdout",
     "output_type": "stream",
     "text": [
      "Guess the number: 1111\n",
      "Cows: 0 and Bulls: 4\n",
      "Guess the number: 2222\n",
      "Cows: 0 and Bulls: 4\n",
      "Guess the number: 3333\n",
      "Cows: 0 and Bulls: 4\n",
      "Guess the number: 4444\n",
      "Cows: 0 and Bulls: 4\n",
      "Guess the number: 5555\n",
      "Cows: 1 and Bulls: 3\n",
      "Guess the number: 5666\n",
      "Cows: 0 and Bulls: 4\n",
      "Guess the number: 6577\n",
      "Cows: 3 and Bulls: 1\n",
      "Guess the number: 6578\n",
      "Cows: 3 and Bulls: 1\n",
      "Guess the number: 6579\n",
      "Cows: 3 and Bulls: 1\n",
      "Guess the number: 6570\n",
      "Cows: 4 and Bulls: 0\n",
      "You won\n",
      "The orignal number was: 6570\n",
      "Number of guess made: 10\n"
     ]
    }
   ],
   "source": [
    "#Cow and Bull game\n",
    "number = random.randrange(1000,9999,1)\n",
    "guess = 0\n",
    "bull = 0\n",
    "cow = 0\n",
    "NoGuess = 0\n",
    "while(guess!=1):\n",
    "    userNo = int(input('Guess the number: '))\n",
    "    if(int(userNo/1000) == int(number/1000)):\n",
    "        cow+=1\n",
    "    else:\n",
    "        bull+=1\n",
    "    if(int(int(userNo%1000)/100)==int(int(number%1000)/100)):\n",
    "        cow+=1\n",
    "    else:\n",
    "        bull+=1\n",
    "    if(int((userNo%100)/10) == int((number%100)/10)):\n",
    "        cow+=1\n",
    "    else:\n",
    "        bull+=1\n",
    "    if(userNo%10 == number%10):\n",
    "        cow+=1\n",
    "    else:\n",
    "        bull+=1\n",
    "    print('Cows: {} and Bulls: {}'.format(cow,bull))\n",
    "    cow,bull = 0,0\n",
    "    NoGuess+=1\n",
    "    if(userNo == number):\n",
    "        print('You won')\n",
    "        print('The orignal number was: {}'.format(number))\n",
    "        print('Number of guess made: {}'.format(NoGuess))\n",
    "        guess =1\n",
    "    elif(NoGuess>20):\n",
    "        print('You have lost the game, the number of guess exceeded the limit of 20')\n",
    "        print('The number was: {}'.format(number))"
   ]
  },
  {
   "cell_type": "code",
   "execution_count": 1,
   "metadata": {
    "collapsed": false
   },
   "outputs": [
    {
     "data": {
      "text/plain": [
       "True"
      ]
     },
     "execution_count": 1,
     "metadata": {},
     "output_type": "execute_result"
    }
   ],
   "source": [
    "#Binary Search\n",
    "def BinarySearch(List, num):\n",
    "    l = len(List)\n",
    "    h = int(l/2)\n",
    "    if(num>List[h]):\n",
    "        if((l-h)==1):\n",
    "            return False\n",
    "        else:\n",
    "            return BinarySearch(List[h::],num)\n",
    "    elif(num<List[h]):\n",
    "        if(h == 1):\n",
    "            return BinarySearch(List[:h],num)\n",
    "        elif(h==0):\n",
    "                return False\n",
    "        else:\n",
    "            return BinarySearch(List[:h],num) \n",
    "    else:\n",
    "        return True\n",
    "BinarySearch([1,2,3,4,5,6,7,8],8)"
   ]
  },
  {
   "cell_type": "code",
   "execution_count": 7,
   "metadata": {
    "collapsed": false
   },
   "outputs": [
    {
     "name": "stdout",
     "output_type": "stream",
     "text": [
      "Please enter the length of the password: 12\n",
      "Is numbers allowed in the password(y/n): y\n",
      "Is upper case characters allowed(y/n): y\n",
      "Is lower case characters allowed(y/n): y\n",
      "Is special characters allowed (@#%&?!)(y/n): n\n",
      "RJVUrl810596\n"
     ]
    }
   ],
   "source": [
    "#Password generator\n",
    "def passGen():\n",
    "    TrueFalseDict = {'y':True,'n':False}\n",
    "    passLen = int(input('Please enter the length of the password: '))\n",
    "    IsNum = input('Is numbers allowed in the password(y/n): ')\n",
    "    IsNum = TrueFalseDict.get(IsNum)\n",
    "    IsUpperCase = input('Is upper case characters allowed(y/n): ')\n",
    "    IsUpperCase = TrueFalseDict.get(IsUpperCase)\n",
    "    IsLowerCase = input('Is lower case characters allowed(y/n): ')\n",
    "    IsLowerCase = TrueFalseDict.get(IsLowerCase)\n",
    "    IsSpecial = input('Is special characters allowed (@#%&?!)(y/n): ')\n",
    "    IsSpecial = TrueFalseDict.get(IsSpecial)\n",
    "    upper = \"ABCDEFGHIJKLMNOPQRSTUVWXYZ\"\n",
    "    lower = \"abcdefghijklmnopqrstuvwxyz\"\n",
    "    chars = \"@#%&?!\"\n",
    "    numbers = \"1234567890\"\n",
    "    if((IsNum == True)&(IsUpperCase == True)&(IsLowerCase == True)&(IsSpecial == True)):\n",
    "        u = random.randrange(1,passLen-3,1)\n",
    "        l = random.randrange(1,passLen-u-2,1)\n",
    "        c = random.randrange(1,passLen-u-l-1,1)\n",
    "        n = passLen-u-l-c\n",
    "    elif ((IsNum == False)&(IsUpperCase == True)&(IsLowerCase == True)&(IsSpecial == True)):\n",
    "        u = random.randrange(1,passLen-3,1)\n",
    "        l = random.randrange(1,passLen-u-2,1)\n",
    "        c = passLen - u - l\n",
    "        n = 0\n",
    "    elif ((IsNum == True)&(IsUpperCase == False)&(IsLowerCase == True)&(IsSpecial == True)):\n",
    "        u = 0\n",
    "        l = random.randrange(1,passLen-3,1)\n",
    "        c = random.randrange(1,passLen-u-2,1)\n",
    "        n = passLen-l-c\n",
    "    elif ((IsNum == True)&(IsUpperCase == True)&(IsLowerCase == False)&(IsSpecial == True)):\n",
    "        u = random.randrange(1,passLen-3,1)\n",
    "        l = 0\n",
    "        c = random.randrange(1,passLen-u-2,1)\n",
    "        n = passLen-u-c\n",
    "    elif ((IsNum == True)&(IsUpperCase == True)&(IsLowerCase == True)&(IsSpecial == False)):\n",
    "        u = random.randrange(1,passLen-3,1)\n",
    "        l = random.randrange(1,passLen-u-2,1)\n",
    "        c = 0\n",
    "        n = passLen-u-l\n",
    "    elif ((IsNum == True)&(IsUpperCase == False)&(IsLowerCase == False)&(IsSpecial == True)):\n",
    "        print('Upper and lower characters cannot be false together')\n",
    "        u = random.randrange(1,passLen-3,1)\n",
    "        l = random.randrange(1,passLen-u-2,1)\n",
    "        c = random.randrange(1,passLen-u-l-1,1)\n",
    "        n = passLen-u-l-c\n",
    "    else:\n",
    "        print('No more than two types can be absent together')\n",
    "        u = random.randrange(1,passLen-3,1)\n",
    "        l = random.randrange(1,passLen-u-2,1)\n",
    "        c = random.randrange(1,passLen-u-l-1,1)\n",
    "        n = passLen-u-l-c\n",
    "    password = random.sample(upper,u)+ random.sample(lower,l)+random.sample(chars,c)+random.sample(numbers,n)\n",
    "    print(''.join(password))\n",
    "passGen()"
   ]
  },
  {
   "cell_type": "code",
   "execution_count": null,
   "metadata": {
    "collapsed": true
   },
   "outputs": [],
   "source": []
  }
 ],
 "metadata": {
  "kernelspec": {
   "display_name": "Python [conda root]",
   "language": "python",
   "name": "conda-root-py"
  },
  "language_info": {
   "codemirror_mode": {
    "name": "ipython",
    "version": 3
   },
   "file_extension": ".py",
   "mimetype": "text/x-python",
   "name": "python",
   "nbconvert_exporter": "python",
   "pygments_lexer": "ipython3",
   "version": "3.5.2"
  }
 },
 "nbformat": 4,
 "nbformat_minor": 1
}
