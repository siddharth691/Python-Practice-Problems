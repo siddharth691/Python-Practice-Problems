{
 "cells": [
  {
   "cell_type": "code",
   "execution_count": 1,
   "metadata": {
    "collapsed": false
   },
   "outputs": [],
   "source": [
    "import random"
   ]
  },
  {
   "cell_type": "code",
   "execution_count": 15,
   "metadata": {
    "collapsed": false,
    "scrolled": true
   },
   "outputs": [
    {
     "name": "stdout",
     "output_type": "stream",
     "text": [
      "Guess any random number between 1 and 9: 1\n",
      "Generated number is: 5\n",
      "Your number is smaller than the generated random number\n"
     ]
    }
   ],
   "source": [
    "#Number greater or smaller than random number\n",
    "a = random.randrange(1,9,1)\n",
    "b = int(input('Guess any random number between 1 and 9: '))\n",
    "print('Generated number is: {}'.format(a))\n",
    "if(b>a):\n",
    "    print('Your number is greater than the generated random number')\n",
    "elif(b<a):\n",
    "    print('Your number is smaller than the generated random number')\n",
    "else:\n",
    "    print('Your number is equal to random number generated')"
   ]
  },
  {
   "cell_type": "code",
   "execution_count": 20,
   "metadata": {
    "collapsed": false,
    "scrolled": false
   },
   "outputs": [
    {
     "name": "stdout",
     "output_type": "stream",
     "text": [
      "Please enter your name : Siddharth\n",
      "Please enter your age: 22\n",
      "Hey Siddharth!, you will turn 100 years old in year 2094\n"
     ]
    }
   ],
   "source": [
    "#Name and age input and display\n",
    "name = input('Please enter your name : ')\n",
    "age = int(input('Please enter your age: '))\n",
    "print('Hey '+name+'!, you will turn 100 years old in year {}'.format(100-age+2016))"
   ]
  },
  {
   "cell_type": "code",
   "execution_count": 22,
   "metadata": {
    "collapsed": false,
    "scrolled": true
   },
   "outputs": [
    {
     "name": "stdout",
     "output_type": "stream",
     "text": [
      "Please enter a number: 6\n",
      "The number is an even number\n"
     ]
    }
   ],
   "source": [
    "#Telling number is even or odd\n",
    "number = int(input('Please enter a number: '))\n",
    "if(number%2 ==0):\n",
    "    print('The number is an even number')\n",
    "else:\n",
    "    print('The number is an odd number')"
   ]
  },
  {
   "cell_type": "code",
   "execution_count": 25,
   "metadata": {
    "collapsed": false
   },
   "outputs": [
    {
     "name": "stdout",
     "output_type": "stream",
     "text": [
      "Enter a number: 32\n",
      "[1, 1, 2, 3, 5, 8, 13, 21]\n"
     ]
    }
   ],
   "source": [
    "#Printing numbers in list less than user given number\n",
    "a = [1, 1, 2, 3, 5, 8, 13, 21, 34, 55, 89]\n",
    "num = int(input('Enter a number: '))\n",
    "b = [i for i in a if i<num]\n",
    "print(b)"
   ]
  },
  {
   "cell_type": "code",
   "execution_count": 27,
   "metadata": {
    "collapsed": false
   },
   "outputs": [
    {
     "name": "stdout",
     "output_type": "stream",
     "text": [
      "Enter a number: 81\n",
      "All divisors of 81 are [1, 3, 9, 27, 81]\n"
     ]
    }
   ],
   "source": [
    "#Printing all divisors of a number\n",
    "num = int(input('Enter a number: '))\n",
    "div = []\n",
    "i = 1\n",
    "while i<=num:\n",
    "    if(num%i ==0):\n",
    "        div.append(i)\n",
    "    i+=1\n",
    "print('All divisors of {} are {}'.format(num,div))"
   ]
  },
  {
   "cell_type": "code",
   "execution_count": 30,
   "metadata": {
    "collapsed": false
   },
   "outputs": [
    {
     "name": "stdout",
     "output_type": "stream",
     "text": [
      "{1, 2, 3, 5, 8, 13}\n"
     ]
    }
   ],
   "source": [
    "#Printing common elements of two lists\n",
    "a = [1, 1, 2, 3, 5, 8, 13, 21, 34, 55, 89]\n",
    "b = [1, 2, 3, 4, 5, 6, 7, 8, 9, 10, 11, 12, 13]\n",
    "\n",
    "c = set(set(b).intersection(set(a)))\n",
    "print(c)"
   ]
  },
  {
   "cell_type": "code",
   "execution_count": 32,
   "metadata": {
    "collapsed": false
   },
   "outputs": [
    {
     "name": "stdout",
     "output_type": "stream",
     "text": [
      "Please enter a string: Siddharth\n",
      "The string isn't a palindrome\n"
     ]
    }
   ],
   "source": [
    "#Check if the string is palindrome or not\n",
    "word = input('Please enter a string: ')\n",
    "rvs = word[::-1]\n",
    "if(word==rvs):\n",
    "    print('The string is palindrome')\n",
    "else:\n",
    "    print('The string isn\\'t a palindrome')"
   ]
  },
  {
   "cell_type": "code",
   "execution_count": 33,
   "metadata": {
    "collapsed": false
   },
   "outputs": [
    {
     "name": "stdout",
     "output_type": "stream",
     "text": [
      "[4, 16, 36, 64, 100]\n"
     ]
    }
   ],
   "source": [
    "#Printing only those elements of list which are divisible by 4\n",
    "a = [1, 4, 9, 16, 25, 36, 49, 64, 81, 100]\n",
    "b = [i for i in a if i%4 ==0]\n",
    "print(b)"
   ]
  },
  {
   "cell_type": "code",
   "execution_count": 14,
   "metadata": {
    "collapsed": false
   },
   "outputs": [
    {
     "name": "stdout",
     "output_type": "stream",
     "text": [
      "Enter your choice: rock\n",
      "Computer's choice is: paper\n",
      "You lose\n",
      "Do you want to play more(y/n): y\n",
      "Enter your choice: paper\n",
      "Computer's choice is: scissor\n",
      "You lose\n",
      "Do you want to play more(y/n): y\n",
      "Enter your choice: scissor\n",
      "Computer's choice is: scissor\n",
      "The game is tie\n",
      "Do you want to play more(y/n): y\n",
      "Enter your choice: rock\n",
      "Computer's choice is: rock\n",
      "The game is tie\n",
      "Do you want to play more(y/n): y\n",
      "Enter your choice: rock\n",
      "Computer's choice is: paper\n",
      "You lose\n",
      "Do you want to play more(y/n): y\n",
      "Enter your choice: scissor\n",
      "Computer's choice is: scissor\n",
      "The game is tie\n",
      "Do you want to play more(y/n): y\n",
      "Enter your choice: rock\n",
      "Computer's choice is: scissor\n",
      "You win\n",
      "Do you want to play more(y/n): y\n",
      "Enter your choice: rock\n",
      "Computer's choice is: paper\n",
      "You lose\n",
      "Do you want to play more(y/n): y\n",
      "Enter your choice: paper\n",
      "Computer's choice is: scissor\n",
      "You lose\n",
      "Do you want to play more(y/n): y\n",
      "Enter your choice: rock\n",
      "Computer's choice is: scissor\n",
      "You win\n",
      "Do you want to play more(y/n): n\n",
      "Your score is: 2\n",
      "Total number of games played: 10\n"
     ]
    }
   ],
   "source": [
    "#Rock paper scissor with the computer\n",
    "score = 0\n",
    "games = 0\n",
    "nex='y'\n",
    "while(nex =='y'):\n",
    "    p1 = random.choice(['rock','paper','scissor'])\n",
    "    p2 = input('Enter your choice: ').lower()\n",
    "    print('Computer\\'s choice is: {}'.format(p1))\n",
    "    dict = {'rock':1,'paper':2,'scissor':3}\n",
    "    p2 = dict.get(p2)\n",
    "    p1 = dict.get(p1)\n",
    "    ans = p2-p1\n",
    "    if(ans == 0):\n",
    "        print('The game is tie')\n",
    "    elif((ans == -2)&(ans==1)):\n",
    "        print('You win')\n",
    "        score +=1\n",
    "    elif((ans ==2)&(ans==-1)):\n",
    "        print('You lose')\n",
    "    nex = input('Do you want to play more(y/n): ')\n",
    "    games +=1\n",
    "\n",
    "print('Your score is: {}'.format(score))\n",
    "print('Total number of games played: {}'.format(games))"
   ]
  },
  {
   "cell_type": "code",
   "execution_count": 1,
   "metadata": {
    "collapsed": false
   },
   "outputs": [
    {
     "data": {
      "text/plain": [
       "[5, 25]"
      ]
     },
     "execution_count": 1,
     "metadata": {},
     "output_type": "execute_result"
    }
   ],
   "source": [
    "#Printing first and last elements of the list\n",
    "a = [5, 10, 15, 20, 25]\n",
    "def twoElements(a):\n",
    "    return([a[0],a[len(a)-1]])\n",
    "twoElements(a)"
   ]
  },
  {
   "cell_type": "code",
   "execution_count": 2,
   "metadata": {
    "collapsed": false
   },
   "outputs": [
    {
     "name": "stdout",
     "output_type": "stream",
     "text": [
      "0\n",
      "1\n",
      "1\n",
      "2\n",
      "3\n",
      "5\n",
      "8\n",
      "13\n",
      "21\n",
      "34\n",
      "55\n",
      "89\n"
     ]
    }
   ],
   "source": [
    "#Printing fibonacci series\n",
    "def fib(n):\n",
    "    a,b=0,1\n",
    "    while(a<n):\n",
    "        print(a)\n",
    "        a,b=b,a+b\n",
    "fib(100)"
   ]
  },
  {
   "cell_type": "code",
   "execution_count": 3,
   "metadata": {
    "collapsed": false
   },
   "outputs": [
    {
     "name": "stdout",
     "output_type": "stream",
     "text": [
      "[1, 2, 3, 4, 5, 6, 7, 8, 9, 10, 11, 12, 13]\n"
     ]
    }
   ],
   "source": [
    "#Remove duplicate items of the list using sets\n",
    "b = [1, 2, 3, 4, 5, 6, 7, 8, 9, 10, 11, 12, 13, 13, 2, 1, 12]\n",
    "b= list(set(b))\n",
    "print(b)"
   ]
  },
  {
   "cell_type": "code",
   "execution_count": 6,
   "metadata": {
    "collapsed": false
   },
   "outputs": [
    {
     "name": "stdout",
     "output_type": "stream",
     "text": [
      "[1, 2, 3, 4, 5, 6, 7, 8, 9, 10, 11, 12, 13]\n"
     ]
    }
   ],
   "source": [
    "#Remove duplicate items of the list using loops\n",
    "def removeDuplicate(b):\n",
    "    y=[]\n",
    "    for i in b:\n",
    "        if i not in y:\n",
    "            y.append(i)\n",
    "    print(y)\n",
    "removeDuplicate(b)"
   ]
  },
  {
   "cell_type": "code",
   "execution_count": 11,
   "metadata": {
    "collapsed": false
   },
   "outputs": [
    {
     "name": "stdout",
     "output_type": "stream",
     "text": [
      "Michele is name My\n"
     ]
    }
   ],
   "source": [
    "#Reversing the words of a string\n",
    "str = 'My name is Michele'\n",
    "def reverseString(str):\n",
    "    print(' '.join(str.split()[::-1]))\n",
    "reverseString(str)"
   ]
  },
  {
   "cell_type": "code",
   "execution_count": 52,
   "metadata": {
    "collapsed": false
   },
   "outputs": [
    {
     "name": "stderr",
     "output_type": "stream",
     "text": [
      "C:\\Program Files\\Anaconda3\\lib\\site-packages\\bs4\\__init__.py:181: UserWarning: No parser was explicitly specified, so I'm using the best available HTML parser for this system (\"lxml\"). This usually isn't a problem, but if you run this code on another system, or in a different virtual environment, it may use a different parser and behave differently.\n",
      "\n",
      "The code that caused this warning is on line 184 of the file C:\\Program Files\\Anaconda3\\lib\\runpy.py. To get rid of this warning, change code that looks like this:\n",
      "\n",
      " BeautifulSoup([your markup])\n",
      "\n",
      "to this:\n",
      "\n",
      " BeautifulSoup([your markup], \"lxml\")\n",
      "\n",
      "  markup_type=markup_type))\n"
     ]
    },
    {
     "name": "stdout",
     "output_type": "stream",
     "text": [
      "Trump Picks a Retired General for Homeland Security Chief\n",
      "Transition Briefing: Trump Says He’s Done Nothing to Divide\n",
      "Talks With Mitt Romney Are ‘Not About Revenge,’ Trump Says\n",
      "Lobbying by Bob Dole Led to Trump’s Call With Taiwan\n",
      "How Trump’s Taiwan Call Could Affect U.S. Goals in Asia\n",
      "Trump’s 5 Easiest and 5 Most Difficult Promises to Keep\n",
      "Trump Fires Senior Adviser’s Son for Sharing Fake News\n",
      "A Source Democrats Could Tap for Future Leaders: California\n",
      "Gun Control Groups Find a Powerful Ally in Corporate Law\n",
      "Pakistani Passenger Plane Crashes With 48 on Board\n",
      "Syrian Forces Said to Drive Deeper Into Rebel-Held Aleppo\n",
      "Dylann Roof Jury Picked; Charleston Trial Set to Begin\n",
      "5 Births in New York City With Zika-Linked Brain Issue\n",
      "Bus Terminal Battle Could Paralyze Port Authority\n",
      "‘They Are Slaughtering Us Like Animals’\n",
      "Your Wednesday Briefing\n",
      "\n",
      "California Today: Schools Try to Calm Deportation Fears\n",
      "How to Get the Most Out of a Vacation by Train\n",
      "Have Insomnia? Online Therapy Might Help\n",
      "Panic in Indonesia as Powerful Quake Kills Nearly 100\n",
      "7 Writers on Their Favorite Bookstores\n",
      "Room for Books (and Magic)\n",
      "The Best Movies of 2016\n",
      "Man Who Hacked Celebrities’ Accounts Gets 5 Years\n",
      "How Pearl Harbor Shaped the Modern World\n",
      "Why There’s No ‘Millennial’ Novel\n",
      "Obsessed With Finding Distant Planets\n",
      "Protecting Reproductive Rights Under Trump\n",
      "President Obama’s Last Chance to Show Mercy\n",
      "Bruni: Paul Ryan’s Dangerous Silence on Donald Trump\n",
      "Friedman: Say What, Al, Ivanka and Donald?\n",
      "Kristof: My 10 Columns That No One Read\n",
      "Is Donald Trump’s Cabinet Anti-Woman?\n",
      "Op-Ed: A Monopoly Trump Can Pop\n",
      "Edward Snowden: ‘Do I Think Things Are Fixed? No.’\n",
      "Can Congress Tell Trump He Needs to Divest?\n",
      "This Week in Hate: A Muslim Police Officer Attacked\n",
      "41 Murder Scenes. 57 Bodies. 35 Days in Manila. A Photographer’s Perspective.\n",
      "Doug Mills, Staff Photographer, Flies West With President-Elect Trump\n",
      "41 Murder Scenes. 57 Bodies. 35 Days in Manila. A Photographer’s Perspective.\n",
      "Play Today’s Puzzle\n",
      "Play Today’s Puzzle\n",
      "Come On Along With Us\n",
      "A New Immigrant Hopes for a Culinary Career\n",
      "‘Safe for Young Ears’? Many Headphones Aren’t\n",
      "The Robot Revolution Will Be the Quietest One\n",
      "The Year’s Best Baking Cookbooks\n",
      "The Three-Legged Dog Who Carried Me\n",
      "Lens: Photos That Give Drummers Their Due\n",
      "Ode to Leonard Cohen, From a Fellow Zen Monk\n",
      "A Nordic Chef’s Vision Bears Fruit (and Lichens)\n",
      "A Blueprint for the Future of Food\n",
      "Best of 2016: Is (Fill-in-the-Blank) Healthy?\n",
      "Can Congress Tell Trump He Needs to Divest?\n",
      "The Story of Two Friends Who Changed Our Minds\n",
      "How to Make Sugar Cookies\n",
      "Facebook Struggles to Put Out Online Fires in Israeli-Palestinian Conflict\n",
      "Angela Merkel Calls for Ban on Full-Face Veils in Germany\n",
      "Like Trump, Europe’s Populists Win Big With Rural Voters\n",
      "Gun Control Advocates Find a Deep-Pocketed Ally in Big Law\n",
      "Supreme Court Case Has Bankruptcy World on Edge\n",
      "New Orleans Becomes New Model for Airbnb to Work With Cities\n",
      "Dispatch: Is Donald Trump’s Cabinet Anti-Woman?\n",
      "Editorial: President Obama’s Last Chance to Show Mercy\n",
      "Frank Bruni: Paul Ryan’s Dangerous Silence on Donald Trump\n",
      "In News, What’s Fake and What’s Real Can Depend on What You Want to Believe\n",
      "Rising Prices in Oakland Push Artists Into Risky Housing\n",
      "Dylann Roof Jury Picked; Charleston Trial Set to Begin\n",
      "State of the Art: The Gadget Apocalypse Is Upon Us\n",
      "New Orleans Becomes New Model for Airbnb to Work With Cities\n",
      "Tech Fix: Worried About the Privacy of Your Messages? Download Signal.\n",
      "The Best Movies of 2016\n",
      "Christie’s Contemporary Art Chief Departs to Become Dealer\n",
      "Reggie Watts, the Tip of Comedy’s Absurdist Spear\n",
      "What It’s Like to Apply for a Job in Donald Trump’s White House\n",
      "John Kelly, Retired Marine General, Is Trump’s Choice to Lead Homeland Security\n",
      "Talks With Mitt Romney for Secretary of State ‘Not About Revenge,’ Trump Says\n",
      "A New Vision of Lingerie: Men Not Required\n",
      "Critic's Notebook: Black Designers in Focus at Fashion Institute of Technology\n",
      "On the Runway: Puttin’ on the Ritz at Chanel’s Métiers d’Art\n",
      "The Best Movies of 2016\n",
      "The Carpetbagger: Oscar Documentary Shortlist Focuses on Politics and Race\n",
      "The Carpetbagger: For Foreign-Language Oscar, a Robust Race With Germany and France Setting the Pace\n",
      "Battle Over New Bus Terminal Threatens to Paralyze Port Authority’s Board\n",
      "Man Who Hacked Celebrities’ Email Accounts Gets 5 Years in Prison\n",
      "Governor Cuomo Orders Investigation of Racial Bias in N.Y. State Prisons\n",
      "Travel Now, Win Later: For Smaller Programs, a Tough Road Schedule Has Benefits\n",
      "Derek Jeter’s No. 2, Last of Yankees’ Single Digits, to Be Retired\n",
      "The Rangers’ Nick Holden Lives Up to His Billing\n",
      "Review: ‘Rancho Viejo,’ Where Banality and Trouble Cohabitate\n",
      "The Best Theater of 2016\n",
      "‘Prince of Broadway’ Set for Broadway, Finally\n",
      "Climate Change Will Bring Wetter Storms in U.S., Study Says\n",
      "Japan Is Obsessed With Climate Change. Young People Don’t Get It.\n",
      "Trilobites: You’re a Bee. This Is What It Feels Like.\n",
      "Rashaan Salaam, Heisman Trophy Winner With Colorado, Dies at 42\n",
      "Peter Vaughan, Maester Aemon in ‘Game of Thrones,’ Dies at 93\n",
      "Robert R. Douglass, Longtime Adviser to Rockefeller Family, Dies at 85\n",
      "The Best TV Shows of 2016\n",
      "Review: ‘Shut Eye’ on Hulu Follows a Scamming, Small-Time Psychic\n",
      "Peter Vaughan, Maester Aemon in ‘Game of Thrones,’ Dies at 93\n",
      "Children’s Headphones May Carry Risk of Hearing Loss\n",
      "Can You Get Too Much Protein?\n",
      "Phys Ed: Carbs During Workouts May Fend Off Colds\n",
      "Temples for the Literary Pilgrim\n",
      "7 Writers on Their Favorite Bookstores\n",
      "Pursuits: Ann Patchett’s Guide for Bookstore Pilgrims\n",
      "Books of The Times: Review: ‘Against Empathy,’ or the Right Way to Feel Someone’s Pain\n",
      "Books of The Times: ‘The Revenge of Analog’: See It. Feel It. Touch It. (Don’t Click)\n",
      "The 10 Best Books of 2016\n",
      "Campus Press vs. Colleges: Kentucky Suit Highlights Free-Speech Fight\n",
      "World Ranking: What America Can Learn About Smart Schools in Other Countries\n",
      "Yale Sets Policy That Could Allow Renaming of Calhoun College\n",
      "Cookbooks: The Year’s Best Baking Cookbooks: Radical Ideas, Classic Treats\n",
      "Restaurant Review: At Aska, a Nordic Chef’s Vision Bears Fruit (and Lichens)\n",
      "To Find Out Who You Are, Peer Into the Cheese Ball\n",
      "Opinion: What the Alt-Right Really Means\n",
      "Editorial: Where Unfair Voting Practices Begin\n",
      "Frank Bruni: How to Win a Senate Race\n",
      "Living In: Stapleton, Staten Island: Revitalizing Old Homes and Tired Blocks\n",
      "What You Get: $950,000 Homes in New Mexico, Washington State and North Carolina\n",
      "International Real Estate: House Hunting in ... Mexico\n",
      "Loaded Phrase: Why Trump’s Use of the Words ‘Urban Renewal’ Is Scary for Cities\n",
      "Public Health: An Obamacare ‘Delay’ Plan Could Backfire\n",
      "How to Know What Donald Trump Really Cares About: Look at What He’s Insulting\n",
      "Feature: ‘The World Sees Me as the One Who Will Find Another Earth’\n",
      "Feature: Life in Obamacare’s Dead Zone\n",
      "The Ethicist: Do You Get Involved When a Parent Treats a Child Badly?\n",
      "Wheels: Out of Africa, an All-Road Honda Motorcycle\n",
      "Driven: Video Review: Chevy Cruze May Help You Ditch Your Comfort Zone\n",
      "Uber Bets on Artificial Intelligence With Acquisition and New Lab\n",
      "Shrines: For the Missoni Matriarch, a Dizzying Collection of Hands\n",
      "The Story of a Thing: The Phrase One Artist Lives (and Works) By\n",
      "The Enduring Allure of Isabelle Huppert\n",
      "Talk to The Times: Traveling Tips From Monica Drake, The Times’s Travel Editor\n",
      "Insider Podcast: 41 Murder Scenes. 57 Bodies. 35 Days in Manila. A Photographer’s Perspective.\n",
      "Doug Mills, Staff Photographer, Flies West With President-Elect Trump\n",
      "Can My Co-op Fine Me for Not Carpeting My Apartment?\n",
      "Search for Homes for Sale or Rent\n",
      "Sell Your Home\n"
     ]
    }
   ],
   "source": [
    "#Print out a list of all the article titles on the New York Times homepage\n",
    "import requests\n",
    "url = 'http://www.nytimes.com/'\n",
    "r = requests.get(url)\n",
    "from bs4 import BeautifulSoup\n",
    "soup = BeautifulSoup(r.text)\n",
    "soup.find_all(class_=\"story-heading\")\n",
    "for story_heading in soup.find_all(class_=\"story-heading\"):\n",
    "    if story_heading.a: \n",
    "        print(story_heading.a.text.strip())\n",
    "    else: \n",
    "        print(story_heading.contents[0].strip())"
   ]
  }
 ],
 "metadata": {
  "anaconda-cloud": {},
  "kernelspec": {
   "display_name": "Python [conda root]",
   "language": "python",
   "name": "conda-root-py"
  },
  "language_info": {
   "codemirror_mode": {
    "name": "ipython",
    "version": 3
   },
   "file_extension": ".py",
   "mimetype": "text/x-python",
   "name": "python",
   "nbconvert_exporter": "python",
   "pygments_lexer": "ipython3",
   "version": "3.5.2"
  }
 },
 "nbformat": 4,
 "nbformat_minor": 1
}
